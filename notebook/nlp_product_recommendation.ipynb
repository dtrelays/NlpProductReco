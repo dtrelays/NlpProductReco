{
 "cells": [
  {
   "cell_type": "markdown",
   "id": "f9bcf9db",
   "metadata": {},
   "source": [
    "### Importing Required Libraries "
   ]
  },
  {
   "cell_type": "code",
   "execution_count": 1,
   "id": "a184d35c",
   "metadata": {},
   "outputs": [],
   "source": [
    "import numpy as np\n",
    "import pandas as pd\n",
    "import nltk\n",
    "from nltk.corpus import stopwords\n",
    "import re\n",
    "import os\n",
    "from tqdm.notebook import tqdm\n",
    "from sklearn.metrics.pairwise import cosine_similarity\n",
    "from gensim.models import FastText\n",
    "from gensim.models import Word2Vec\n",
    "from nltk.stem import WordNetLemmatizer"
   ]
  },
  {
   "cell_type": "code",
   "execution_count": 2,
   "id": "68ac5ce6",
   "metadata": {},
   "outputs": [
    {
     "name": "stderr",
     "output_type": "stream",
     "text": [
      "[nltk_data] Downloading package stopwords to\n",
      "[nltk_data]     /Users/kianathakkar/nltk_data...\n",
      "[nltk_data]   Package stopwords is already up-to-date!\n",
      "[nltk_data] Downloading package wordnet to\n",
      "[nltk_data]     /Users/kianathakkar/nltk_data...\n",
      "[nltk_data]   Package wordnet is already up-to-date!\n"
     ]
    }
   ],
   "source": [
    "nltk.download('stopwords')\n",
    "nltk.download('wordnet')\n",
    "\n",
    "stop_words = set(stopwords.words('english'))\n",
    "lemmatizer = WordNetLemmatizer()\n",
    "pd.set_option('display.max_columns', None)\n",
    "pd.set_option('display.max_colwidth', 100)"
   ]
  },
  {
   "cell_type": "markdown",
   "id": "31582b37",
   "metadata": {},
   "source": [
    "### We will use Word2Vec, Fastext and BERT for creating word embeddings"
   ]
  },
  {
   "cell_type": "code",
   "execution_count": 3,
   "id": "d120e8e2",
   "metadata": {},
   "outputs": [
    {
     "name": "stdout",
     "output_type": "stream",
     "text": [
      "/Users/kianathakkar/Documents/NLP\n"
     ]
    }
   ],
   "source": [
    "print(os.getcwd())"
   ]
  },
  {
   "cell_type": "code",
   "execution_count": 4,
   "id": "6d39af00",
   "metadata": {},
   "outputs": [],
   "source": [
    "# Specify the folder path where your CSV files are located\n",
    "folder_path = \"/Users/kianathakkar/Documents/dataset/Bigbasket/BigBasket_Data.csv\"\n",
    "\n",
    "df = pd.read_csv(folder_path)"
   ]
  },
  {
   "cell_type": "code",
   "execution_count": 5,
   "id": "f2cc78b9",
   "metadata": {},
   "outputs": [
    {
     "data": {
      "text/html": [
       "<div>\n",
       "<style scoped>\n",
       "    .dataframe tbody tr th:only-of-type {\n",
       "        vertical-align: middle;\n",
       "    }\n",
       "\n",
       "    .dataframe tbody tr th {\n",
       "        vertical-align: top;\n",
       "    }\n",
       "\n",
       "    .dataframe thead th {\n",
       "        text-align: right;\n",
       "    }\n",
       "</style>\n",
       "<table border=\"1\" class=\"dataframe\">\n",
       "  <thead>\n",
       "    <tr style=\"text-align: right;\">\n",
       "      <th></th>\n",
       "      <th>index</th>\n",
       "      <th>product</th>\n",
       "      <th>category</th>\n",
       "      <th>sub_category</th>\n",
       "      <th>brand</th>\n",
       "      <th>sale_price</th>\n",
       "      <th>market_price</th>\n",
       "      <th>type</th>\n",
       "      <th>rating</th>\n",
       "      <th>description</th>\n",
       "    </tr>\n",
       "  </thead>\n",
       "  <tbody>\n",
       "    <tr>\n",
       "      <th>0</th>\n",
       "      <td>1</td>\n",
       "      <td>Garlic Oil - Vegetarian Capsule 500 mg</td>\n",
       "      <td>Beauty &amp; Hygiene</td>\n",
       "      <td>Hair Care</td>\n",
       "      <td>Sri Sri Ayurveda</td>\n",
       "      <td>220.0</td>\n",
       "      <td>220.0</td>\n",
       "      <td>Hair Oil &amp; Serum</td>\n",
       "      <td>4.1</td>\n",
       "      <td>This Product contains Garlic Oil that is known to help proper digestion, maintain proper cholest...</td>\n",
       "    </tr>\n",
       "    <tr>\n",
       "      <th>1</th>\n",
       "      <td>2</td>\n",
       "      <td>Water Bottle - Orange</td>\n",
       "      <td>Kitchen, Garden &amp; Pets</td>\n",
       "      <td>Storage &amp; Accessories</td>\n",
       "      <td>Mastercook</td>\n",
       "      <td>180.0</td>\n",
       "      <td>180.0</td>\n",
       "      <td>Water &amp; Fridge Bottles</td>\n",
       "      <td>2.3</td>\n",
       "      <td>Each product is microwave safe (without lid), refrigerator safe, dishwasher safe and can also be...</td>\n",
       "    </tr>\n",
       "    <tr>\n",
       "      <th>2</th>\n",
       "      <td>3</td>\n",
       "      <td>Brass Angle Deep - Plain, No.2</td>\n",
       "      <td>Cleaning &amp; Household</td>\n",
       "      <td>Pooja Needs</td>\n",
       "      <td>Trm</td>\n",
       "      <td>119.0</td>\n",
       "      <td>250.0</td>\n",
       "      <td>Lamp &amp; Lamp Oil</td>\n",
       "      <td>3.4</td>\n",
       "      <td>A perfect gift for all occasions, be it your mother, sister, in-laws, boss or your friends, this...</td>\n",
       "    </tr>\n",
       "    <tr>\n",
       "      <th>3</th>\n",
       "      <td>4</td>\n",
       "      <td>Cereal Flip Lid Container/Storage Jar - Assorted Colour</td>\n",
       "      <td>Cleaning &amp; Household</td>\n",
       "      <td>Bins &amp; Bathroom Ware</td>\n",
       "      <td>Nakoda</td>\n",
       "      <td>149.0</td>\n",
       "      <td>176.0</td>\n",
       "      <td>Laundry, Storage Baskets</td>\n",
       "      <td>3.7</td>\n",
       "      <td>Multipurpose container with an attractive design and made from food-grade plastic for your hygie...</td>\n",
       "    </tr>\n",
       "    <tr>\n",
       "      <th>4</th>\n",
       "      <td>5</td>\n",
       "      <td>Creme Soft Soap - For Hands &amp; Body</td>\n",
       "      <td>Beauty &amp; Hygiene</td>\n",
       "      <td>Bath &amp; Hand Wash</td>\n",
       "      <td>Nivea</td>\n",
       "      <td>162.0</td>\n",
       "      <td>162.0</td>\n",
       "      <td>Bathing Bars &amp; Soaps</td>\n",
       "      <td>4.4</td>\n",
       "      <td>Nivea Creme Soft Soap gives your skin the best care that it must get. The soft bar consists of V...</td>\n",
       "    </tr>\n",
       "  </tbody>\n",
       "</table>\n",
       "</div>"
      ],
      "text/plain": [
       "   index                                                  product  \\\n",
       "0      1                   Garlic Oil - Vegetarian Capsule 500 mg   \n",
       "1      2                                    Water Bottle - Orange   \n",
       "2      3                           Brass Angle Deep - Plain, No.2   \n",
       "3      4  Cereal Flip Lid Container/Storage Jar - Assorted Colour   \n",
       "4      5                       Creme Soft Soap - For Hands & Body   \n",
       "\n",
       "                 category           sub_category              brand  \\\n",
       "0        Beauty & Hygiene              Hair Care  Sri Sri Ayurveda    \n",
       "1  Kitchen, Garden & Pets  Storage & Accessories         Mastercook   \n",
       "2    Cleaning & Household            Pooja Needs                Trm   \n",
       "3    Cleaning & Household   Bins & Bathroom Ware             Nakoda   \n",
       "4        Beauty & Hygiene       Bath & Hand Wash              Nivea   \n",
       "\n",
       "   sale_price  market_price                      type  rating  \\\n",
       "0       220.0         220.0          Hair Oil & Serum     4.1   \n",
       "1       180.0         180.0    Water & Fridge Bottles     2.3   \n",
       "2       119.0         250.0           Lamp & Lamp Oil     3.4   \n",
       "3       149.0         176.0  Laundry, Storage Baskets     3.7   \n",
       "4       162.0         162.0      Bathing Bars & Soaps     4.4   \n",
       "\n",
       "                                                                                           description  \n",
       "0  This Product contains Garlic Oil that is known to help proper digestion, maintain proper cholest...  \n",
       "1  Each product is microwave safe (without lid), refrigerator safe, dishwasher safe and can also be...  \n",
       "2  A perfect gift for all occasions, be it your mother, sister, in-laws, boss or your friends, this...  \n",
       "3  Multipurpose container with an attractive design and made from food-grade plastic for your hygie...  \n",
       "4  Nivea Creme Soft Soap gives your skin the best care that it must get. The soft bar consists of V...  "
      ]
     },
     "execution_count": 5,
     "metadata": {},
     "output_type": "execute_result"
    }
   ],
   "source": [
    "df.head()"
   ]
  },
  {
   "cell_type": "code",
   "execution_count": 6,
   "id": "8d9d4ed2",
   "metadata": {},
   "outputs": [],
   "source": [
    "df = df.drop_duplicates()"
   ]
  },
  {
   "cell_type": "code",
   "execution_count": 7,
   "id": "cffe1cc5",
   "metadata": {},
   "outputs": [],
   "source": [
    "# Preprocessing: Combine columns into 'Description'\n",
    "df['combined_text'] = df['product'] + ' ' + df['category'] + ' ' + df['sub_category'] + ' ' + df['brand']+ ' ' + df['type']\n",
    "# + '' + df['description']"
   ]
  },
  {
   "cell_type": "code",
   "execution_count": 8,
   "id": "0d1511ea",
   "metadata": {},
   "outputs": [],
   "source": [
    "df = df.dropna()"
   ]
  },
  {
   "cell_type": "markdown",
   "id": "09720b2a",
   "metadata": {},
   "source": [
    "### Preprocessing Text To Remove stop words,punctuation etc"
   ]
  },
  {
   "cell_type": "code",
   "execution_count": 9,
   "id": "4ec3ed16",
   "metadata": {},
   "outputs": [],
   "source": [
    "def remove_special_characters(text):\n",
    "    # Use regex to remove all non-alphanumeric characters\n",
    "    text = re.sub(r'[^a-zA-Z0-9\\s]', '', text)\n",
    "    text = text.lower()\n",
    "    return text\n",
    "\n",
    "def remove_stop_words_and_lemmatize(text):\n",
    "    words = text.split()\n",
    "    words = [lemmatizer.lemmatize(word.lower()) for word in words if word.lower() not in stop_words]\n",
    "    return ' '.join(words)"
   ]
  },
  {
   "cell_type": "code",
   "execution_count": 10,
   "id": "5449a486",
   "metadata": {},
   "outputs": [],
   "source": [
    "# List of column names to clean\n",
    "columns_to_clean = ['combined_text','product', 'category', 'sub_category','brand','type']\n",
    "\n",
    "# Apply the functions to each column in the DataFrame\n",
    "for column in columns_to_clean:\n",
    "# Apply the special character removal function\n",
    "    df[column + '_v1'] = df[column].apply(remove_special_characters)\n",
    "    \n",
    "    # Apply the stop word removal function\n",
    "    df[column + '_v1'] = df[column + '_v1'].apply(remove_stop_words_and_lemmatize)"
   ]
  },
  {
   "cell_type": "code",
   "execution_count": 11,
   "id": "1ffa2c7c",
   "metadata": {},
   "outputs": [],
   "source": [
    "df['length'] = df['combined_text_v1'].str.len()"
   ]
  },
  {
   "cell_type": "markdown",
   "id": "6c28de35",
   "metadata": {},
   "source": [
    "### Visualising sentence length distribution to decide max_length for BERT"
   ]
  },
  {
   "cell_type": "code",
   "execution_count": 12,
   "id": "427398d5",
   "metadata": {},
   "outputs": [],
   "source": [
    "df['word_count'] = df['combined_text_v1'].apply(lambda x: len(x.split()))"
   ]
  },
  {
   "cell_type": "code",
   "execution_count": 13,
   "id": "bf39a67b",
   "metadata": {},
   "outputs": [
    {
     "data": {
      "image/png": "[encoded data removed]",
      "text/plain": [
       "<Figure size 640x480 with 1 Axes>"
      ]
     },
     "metadata": {},
     "output_type": "display_data"
    }
   ],
   "source": [
    "import seaborn as sns\n",
    "import matplotlib.pyplot as plt\n",
    "\n",
    "sns.histplot(x=df['length'])\n",
    "plt.show()"
   ]
  },
  {
   "cell_type": "markdown",
   "id": "96464a29",
   "metadata": {},
   "source": [
    "### Getting vocab size for the combined text"
   ]
  },
  {
   "cell_type": "code",
   "execution_count": 14,
   "id": "f6c078d8",
   "metadata": {},
   "outputs": [
    {
     "name": "stdout",
     "output_type": "stream",
     "text": [
      "Vocabulary size: 9389\n"
     ]
    }
   ],
   "source": [
    "# Create an empty set to store unique words\n",
    "unique_words = set()\n",
    "\n",
    "# Tokenize the text and add unique words to the set\n",
    "for text in df['combined_text_v1']:\n",
    "    words = text.split()  # Split text into words\n",
    "    unique_words.update(words)  # Add unique words to the set\n",
    "\n",
    "# Calculate the vocabulary size (number of unique words)\n",
    "vocab_size = len(unique_words)\n",
    "\n",
    "print(f\"Vocabulary size: {vocab_size}\")"
   ]
  },
  {
   "cell_type": "code",
   "execution_count": 15,
   "id": "4d0cfa47",
   "metadata": {},
   "outputs": [
    {
     "data": {
      "text/html": [
       "<div>\n",
       "<style scoped>\n",
       "    .dataframe tbody tr th:only-of-type {\n",
       "        vertical-align: middle;\n",
       "    }\n",
       "\n",
       "    .dataframe tbody tr th {\n",
       "        vertical-align: top;\n",
       "    }\n",
       "\n",
       "    .dataframe thead th {\n",
       "        text-align: right;\n",
       "    }\n",
       "</style>\n",
       "<table border=\"1\" class=\"dataframe\">\n",
       "  <thead>\n",
       "    <tr style=\"text-align: right;\">\n",
       "      <th></th>\n",
       "      <th>index</th>\n",
       "      <th>product</th>\n",
       "      <th>category</th>\n",
       "      <th>sub_category</th>\n",
       "      <th>brand</th>\n",
       "      <th>sale_price</th>\n",
       "      <th>market_price</th>\n",
       "      <th>type</th>\n",
       "      <th>rating</th>\n",
       "      <th>description</th>\n",
       "      <th>combined_text</th>\n",
       "      <th>combined_text_v1</th>\n",
       "      <th>product_v1</th>\n",
       "      <th>category_v1</th>\n",
       "      <th>sub_category_v1</th>\n",
       "      <th>brand_v1</th>\n",
       "      <th>type_v1</th>\n",
       "      <th>length</th>\n",
       "      <th>word_count</th>\n",
       "    </tr>\n",
       "  </thead>\n",
       "  <tbody>\n",
       "    <tr>\n",
       "      <th>0</th>\n",
       "      <td>1</td>\n",
       "      <td>Garlic Oil - Vegetarian Capsule 500 mg</td>\n",
       "      <td>Beauty &amp; Hygiene</td>\n",
       "      <td>Hair Care</td>\n",
       "      <td>Sri Sri Ayurveda</td>\n",
       "      <td>220.0</td>\n",
       "      <td>220.0</td>\n",
       "      <td>Hair Oil &amp; Serum</td>\n",
       "      <td>4.1</td>\n",
       "      <td>This Product contains Garlic Oil that is known to help proper digestion, maintain proper cholest...</td>\n",
       "      <td>Garlic Oil - Vegetarian Capsule 500 mg Beauty &amp; Hygiene Hair Care Sri Sri Ayurveda  Hair Oil &amp; S...</td>\n",
       "      <td>garlic oil vegetarian capsule 500 mg beauty hygiene hair care sri sri ayurveda hair oil serum</td>\n",
       "      <td>garlic oil vegetarian capsule 500 mg</td>\n",
       "      <td>beauty hygiene</td>\n",
       "      <td>hair care</td>\n",
       "      <td>sri sri ayurveda</td>\n",
       "      <td>hair oil serum</td>\n",
       "      <td>93</td>\n",
       "      <td>16</td>\n",
       "    </tr>\n",
       "    <tr>\n",
       "      <th>1</th>\n",
       "      <td>2</td>\n",
       "      <td>Water Bottle - Orange</td>\n",
       "      <td>Kitchen, Garden &amp; Pets</td>\n",
       "      <td>Storage &amp; Accessories</td>\n",
       "      <td>Mastercook</td>\n",
       "      <td>180.0</td>\n",
       "      <td>180.0</td>\n",
       "      <td>Water &amp; Fridge Bottles</td>\n",
       "      <td>2.3</td>\n",
       "      <td>Each product is microwave safe (without lid), refrigerator safe, dishwasher safe and can also be...</td>\n",
       "      <td>Water Bottle - Orange Kitchen, Garden &amp; Pets Storage &amp; Accessories Mastercook Water &amp; Fridge Bot...</td>\n",
       "      <td>water bottle orange kitchen garden pet storage accessory mastercook water fridge bottle</td>\n",
       "      <td>water bottle orange</td>\n",
       "      <td>kitchen garden pet</td>\n",
       "      <td>storage accessory</td>\n",
       "      <td>mastercook</td>\n",
       "      <td>water fridge bottle</td>\n",
       "      <td>87</td>\n",
       "      <td>12</td>\n",
       "    </tr>\n",
       "    <tr>\n",
       "      <th>2</th>\n",
       "      <td>3</td>\n",
       "      <td>Brass Angle Deep - Plain, No.2</td>\n",
       "      <td>Cleaning &amp; Household</td>\n",
       "      <td>Pooja Needs</td>\n",
       "      <td>Trm</td>\n",
       "      <td>119.0</td>\n",
       "      <td>250.0</td>\n",
       "      <td>Lamp &amp; Lamp Oil</td>\n",
       "      <td>3.4</td>\n",
       "      <td>A perfect gift for all occasions, be it your mother, sister, in-laws, boss or your friends, this...</td>\n",
       "      <td>Brass Angle Deep - Plain, No.2 Cleaning &amp; Household Pooja Needs Trm Lamp &amp; Lamp Oil</td>\n",
       "      <td>brass angle deep plain no2 cleaning household pooja need trm lamp lamp oil</td>\n",
       "      <td>brass angle deep plain no2</td>\n",
       "      <td>cleaning household</td>\n",
       "      <td>pooja need</td>\n",
       "      <td>trm</td>\n",
       "      <td>lamp lamp oil</td>\n",
       "      <td>74</td>\n",
       "      <td>13</td>\n",
       "    </tr>\n",
       "    <tr>\n",
       "      <th>3</th>\n",
       "      <td>4</td>\n",
       "      <td>Cereal Flip Lid Container/Storage Jar - Assorted Colour</td>\n",
       "      <td>Cleaning &amp; Household</td>\n",
       "      <td>Bins &amp; Bathroom Ware</td>\n",
       "      <td>Nakoda</td>\n",
       "      <td>149.0</td>\n",
       "      <td>176.0</td>\n",
       "      <td>Laundry, Storage Baskets</td>\n",
       "      <td>3.7</td>\n",
       "      <td>Multipurpose container with an attractive design and made from food-grade plastic for your hygie...</td>\n",
       "      <td>Cereal Flip Lid Container/Storage Jar - Assorted Colour Cleaning &amp; Household Bins &amp; Bathroom War...</td>\n",
       "      <td>cereal flip lid containerstorage jar assorted colour cleaning household bin bathroom ware nakoda...</td>\n",
       "      <td>cereal flip lid containerstorage jar assorted colour</td>\n",
       "      <td>cleaning household</td>\n",
       "      <td>bin bathroom ware</td>\n",
       "      <td>nakoda</td>\n",
       "      <td>laundry storage basket</td>\n",
       "      <td>119</td>\n",
       "      <td>16</td>\n",
       "    </tr>\n",
       "    <tr>\n",
       "      <th>4</th>\n",
       "      <td>5</td>\n",
       "      <td>Creme Soft Soap - For Hands &amp; Body</td>\n",
       "      <td>Beauty &amp; Hygiene</td>\n",
       "      <td>Bath &amp; Hand Wash</td>\n",
       "      <td>Nivea</td>\n",
       "      <td>162.0</td>\n",
       "      <td>162.0</td>\n",
       "      <td>Bathing Bars &amp; Soaps</td>\n",
       "      <td>4.4</td>\n",
       "      <td>Nivea Creme Soft Soap gives your skin the best care that it must get. The soft bar consists of V...</td>\n",
       "      <td>Creme Soft Soap - For Hands &amp; Body Beauty &amp; Hygiene Bath &amp; Hand Wash Nivea Bathing Bars &amp; Soaps</td>\n",
       "      <td>creme soft soap hand body beauty hygiene bath hand wash nivea bathing bar soap</td>\n",
       "      <td>creme soft soap hand body</td>\n",
       "      <td>beauty hygiene</td>\n",
       "      <td>bath hand wash</td>\n",
       "      <td>nivea</td>\n",
       "      <td>bathing bar soap</td>\n",
       "      <td>78</td>\n",
       "      <td>14</td>\n",
       "    </tr>\n",
       "  </tbody>\n",
       "</table>\n",
       "</div>"
      ],
      "text/plain": [
       "   index                                                  product  \\\n",
       "0      1                   Garlic Oil - Vegetarian Capsule 500 mg   \n",
       "1      2                                    Water Bottle - Orange   \n",
       "2      3                           Brass Angle Deep - Plain, No.2   \n",
       "3      4  Cereal Flip Lid Container/Storage Jar - Assorted Colour   \n",
       "4      5                       Creme Soft Soap - For Hands & Body   \n",
       "\n",
       "                 category           sub_category              brand  \\\n",
       "0        Beauty & Hygiene              Hair Care  Sri Sri Ayurveda    \n",
       "1  Kitchen, Garden & Pets  Storage & Accessories         Mastercook   \n",
       "2    Cleaning & Household            Pooja Needs                Trm   \n",
       "3    Cleaning & Household   Bins & Bathroom Ware             Nakoda   \n",
       "4        Beauty & Hygiene       Bath & Hand Wash              Nivea   \n",
       "\n",
       "   sale_price  market_price                      type  rating  \\\n",
       "0       220.0         220.0          Hair Oil & Serum     4.1   \n",
       "1       180.0         180.0    Water & Fridge Bottles     2.3   \n",
       "2       119.0         250.0           Lamp & Lamp Oil     3.4   \n",
       "3       149.0         176.0  Laundry, Storage Baskets     3.7   \n",
       "4       162.0         162.0      Bathing Bars & Soaps     4.4   \n",
       "\n",
       "                                                                                           description  \\\n",
       "0  This Product contains Garlic Oil that is known to help proper digestion, maintain proper cholest...   \n",
       "1  Each product is microwave safe (without lid), refrigerator safe, dishwasher safe and can also be...   \n",
       "2  A perfect gift for all occasions, be it your mother, sister, in-laws, boss or your friends, this...   \n",
       "3  Multipurpose container with an attractive design and made from food-grade plastic for your hygie...   \n",
       "4  Nivea Creme Soft Soap gives your skin the best care that it must get. The soft bar consists of V...   \n",
       "\n",
       "                                                                                         combined_text  \\\n",
       "0  Garlic Oil - Vegetarian Capsule 500 mg Beauty & Hygiene Hair Care Sri Sri Ayurveda  Hair Oil & S...   \n",
       "1  Water Bottle - Orange Kitchen, Garden & Pets Storage & Accessories Mastercook Water & Fridge Bot...   \n",
       "2                  Brass Angle Deep - Plain, No.2 Cleaning & Household Pooja Needs Trm Lamp & Lamp Oil   \n",
       "3  Cereal Flip Lid Container/Storage Jar - Assorted Colour Cleaning & Household Bins & Bathroom War...   \n",
       "4      Creme Soft Soap - For Hands & Body Beauty & Hygiene Bath & Hand Wash Nivea Bathing Bars & Soaps   \n",
       "\n",
       "                                                                                      combined_text_v1  \\\n",
       "0        garlic oil vegetarian capsule 500 mg beauty hygiene hair care sri sri ayurveda hair oil serum   \n",
       "1              water bottle orange kitchen garden pet storage accessory mastercook water fridge bottle   \n",
       "2                           brass angle deep plain no2 cleaning household pooja need trm lamp lamp oil   \n",
       "3  cereal flip lid containerstorage jar assorted colour cleaning household bin bathroom ware nakoda...   \n",
       "4                       creme soft soap hand body beauty hygiene bath hand wash nivea bathing bar soap   \n",
       "\n",
       "                                             product_v1         category_v1  \\\n",
       "0                  garlic oil vegetarian capsule 500 mg      beauty hygiene   \n",
       "1                                   water bottle orange  kitchen garden pet   \n",
       "2                            brass angle deep plain no2  cleaning household   \n",
       "3  cereal flip lid containerstorage jar assorted colour  cleaning household   \n",
       "4                             creme soft soap hand body      beauty hygiene   \n",
       "\n",
       "     sub_category_v1          brand_v1                 type_v1  length  \\\n",
       "0          hair care  sri sri ayurveda          hair oil serum      93   \n",
       "1  storage accessory        mastercook     water fridge bottle      87   \n",
       "2         pooja need               trm           lamp lamp oil      74   \n",
       "3  bin bathroom ware            nakoda  laundry storage basket     119   \n",
       "4     bath hand wash             nivea        bathing bar soap      78   \n",
       "\n",
       "   word_count  \n",
       "0          16  \n",
       "1          12  \n",
       "2          13  \n",
       "3          16  \n",
       "4          14  "
      ]
     },
     "execution_count": 15,
     "metadata": {},
     "output_type": "execute_result"
    }
   ],
   "source": [
    "df.head()"
   ]
  },
  {
   "cell_type": "code",
   "execution_count": 16,
   "id": "ff9e5339",
   "metadata": {},
   "outputs": [],
   "source": [
    "# Initialize an empty list for sentences\n",
    "sentences = []\n",
    "\n",
    "# List of columns you want to include\n",
    "columns_to_train = ['combined_text_v1','product_v1', 'category_v1', 'sub_category_v1','brand_v1','type_v1']\n",
    "\n",
    "# Iterate through the columns and extend the sentences list\n",
    "for column in columns_to_train:\n",
    "    sentences.extend([text.split() for text in df[column]])\n"
   ]
  },
  {
   "cell_type": "code",
   "execution_count": 18,
   "id": "f5f5d3bd",
   "metadata": {},
   "outputs": [],
   "source": [
    "# Word2Vec implementation\n",
    "model_wordtovec = Word2Vec(sentences, vector_size=200, window=20, min_count=1, sg=0,alpha=0.05, epochs=100, negative=5) "
   ]
  },
  {
   "cell_type": "code",
   "execution_count": 19,
   "id": "c837b69e",
   "metadata": {},
   "outputs": [],
   "source": [
    "# Model using FastText\n",
    "model_fastext = FastText(sentences, vector_size=200, window=20, min_count=1, sg=0,epochs=100)"
   ]
  },
  {
   "cell_type": "code",
   "execution_count": 20,
   "id": "43a56659",
   "metadata": {},
   "outputs": [],
   "source": [
    "def calculate_weighted_average_vector(list_of_columns, weights):\n",
    "  \"\"\"Calculates the weighted average of word2vec vectors.\n",
    "\n",
    "  Args:\n",
    "    words: A list of words.\n",
    "    weights: A list of weights for the words.\n",
    "\n",
    "  Returns:\n",
    "    A NumPy array representing the weighted average of the word2vec vectors.\n",
    "  \"\"\"\n",
    "\n",
    "  vectors = []\n",
    "  for i, column in enumerate(list_of_columns):\n",
    "    # If the word is a phrase, split it into individual words.\n",
    "    if isinstance(column, str) and len(column.split()) > 1:\n",
    "      words = column.split()\n",
    "    for word in words:\n",
    "      if word in model_wordtovec.wv:\n",
    "        vectors.append(model_wordtovec.wv[word] * weights[i])\n",
    "  if vectors:\n",
    "    return np.sum(vectors, axis=0)/np.sum(weights) \n",
    "  else:\n",
    "    return np.zeros(model_wordtovec.vector_size)\n",
    "\n",
    "\n",
    "# Create a product vector for each row in the DataFrame for Word2Vec\n",
    "df['product_vector_word2vec'] = df[['product_v1', 'category_v1', 'sub_category_v1', 'brand_v1', 'type_v1']].apply(lambda row: calculate_weighted_average_vector(row.tolist(), [0.45, 0.15, 0.1, 0.25, 0.05]), axis=1)\n"
   ]
  },
  {
   "cell_type": "code",
   "execution_count": 21,
   "id": "d7aeb125",
   "metadata": {},
   "outputs": [],
   "source": [
    "def calculate_weighted_average_vector_fasttext(list_of_columns, weights):\n",
    "  \"\"\"Calculates the weighted average of FastText vectors.\n",
    "\n",
    "  Args:\n",
    "    words: A list of words.\n",
    "    weights: A list of weights for the words.\n",
    "\n",
    "  Returns:\n",
    "    A NumPy array representing the weighted average of the FastText vectors.\n",
    "  \"\"\"\n",
    "\n",
    "  vectors = []\n",
    "  for i, column in enumerate(list_of_columns):\n",
    "    vectors.append(model_fastext.wv[column] * weights[i])\n",
    "  return  np.sum(vectors, axis=0)/np.sum(weights) \n",
    "\n",
    "# Create a product vector for each row in the DataFrame for fasttext\n",
    "df['product_vector_fastext'] = df[['product_v1', 'category_v1', 'sub_category_v1', 'brand_v1', 'type_v1']].apply(lambda row: calculate_weighted_average_vector_fasttext(row.tolist(), [0.45, 0.15, 0.1, 0.25, 0.05]), axis=1)"
   ]
  },
  {
   "cell_type": "code",
   "execution_count": 22,
   "id": "399d38d8",
   "metadata": {},
   "outputs": [],
   "source": [
    "def calculate_cosine_similarity(vector1, vector2):\n",
    "    \n",
    "  dot_product = np.dot(vector1, vector2)\n",
    "  magnitude = np.linalg.norm(vector1) * np.linalg.norm(vector2)\n",
    "  cosine_similarity = dot_product / magnitude\n",
    "  return cosine_similarity"
   ]
  },
  {
   "cell_type": "code",
   "execution_count": 33,
   "id": "beb0bdb2",
   "metadata": {},
   "outputs": [],
   "source": [
    "user_query = 'face wash active'\n",
    "user_query = remove_special_characters(user_query)\n",
    "user_query = remove_stop_words_and_lemmatize(user_query)\n",
    "# Get the query vector\n",
    "query_vector_word2vec = model_wordtovec.wv[user_query.split()].mean(axis=0)"
   ]
  },
  {
   "cell_type": "code",
   "execution_count": 34,
   "id": "aa73996b",
   "metadata": {},
   "outputs": [],
   "source": [
    "def get_similarity_word2vec(query):\n",
    "  # Create a list to store the cosine similarities\n",
    "  cosine_similarities_word2vec = []\n",
    "\n",
    "  # Loop through the product vectors\n",
    "  for product_vector in df['product_vector_word2vec']:\n",
    "\n",
    "    # Calculate the cosine similarity between the query vector and the product vector\n",
    "    cosine_similarity = calculate_cosine_similarity(query_vector_word2vec, product_vector)\n",
    "\n",
    "    # Add the cosine similarity to the list\n",
    "    cosine_similarities_word2vec.append(cosine_similarity)\n",
    "\n",
    "  # Get the product indices with the highest cosine similarities\n",
    "  most_similar_product_indices_wvc = np.argsort(cosine_similarities_word2vec)[-10:]\n",
    "\n",
    "  # Get the product rows with the highest cosine similarities\n",
    "  most_similar_product_rows_word2vec = df.iloc[most_similar_product_indices_wvc]\n",
    "\n",
    "  # Print the most similar product rows\n",
    "  return print(most_similar_product_rows_word2vec[['product','category','brand','market_price']])"
   ]
  },
  {
   "cell_type": "code",
   "execution_count": 35,
   "id": "54b92eda",
   "metadata": {},
   "outputs": [],
   "source": [
    "def get_similarity_fastext(query):\n",
    "\n",
    "  query_vector_fastext = model_fastext.wv[user_query]\n",
    "\n",
    "  # Create a list to store the cosine similarities\n",
    "  cosine_similarities_fastext = []\n",
    "\n",
    "  # Loop through the product vectors\n",
    "  for product_vector in df['product_vector_fastext']:\n",
    "\n",
    "    # Calculate the cosine similarity between the query vector and the product vector\n",
    "    cosine_similarity = calculate_cosine_similarity(query_vector_fastext, product_vector)\n",
    "\n",
    "    # Add the cosine similarity to the list\n",
    "    cosine_similarities_fastext.append(cosine_similarity)\n",
    "\n",
    "  # Get the product indices with the highest cosine similarities\n",
    "  most_similar_product_indices_ftxt = np.argsort(cosine_similarities_fastext)[-10:]\n",
    "\n",
    "  # Get the product rows with the highest cosine similarities\n",
    "  most_similar_product_rows_ftxt = df.iloc[most_similar_product_indices_ftxt]\n",
    "\n",
    "  # Print the most similar product rows\n",
    "  return print(most_similar_product_rows_ftxt[['product','category','brand','market_price']])"
   ]
  },
  {
   "cell_type": "code",
   "execution_count": 36,
   "id": "627c1b9b",
   "metadata": {},
   "outputs": [
    {
     "name": "stdout",
     "output_type": "stream",
     "text": [
      "                                                                              product  \\\n",
      "14946                                                            Acne Clear Face Wash   \n",
      "21006                                                         Active Clean Shower Gel   \n",
      "9605   Active Clean Body Wash With Active Charcoal - Shower Gel For Body, Face & Hair   \n",
      "1240                                                           Active Sport Face Wash   \n",
      "3125                                                                  Cool Active Deo   \n",
      "5448                                                                        Face Wash   \n",
      "23926                                                                       Face Wash   \n",
      "22579                                                         Active Clean Shower Gel   \n",
      "3504                                                           Active Sport Face Wash   \n",
      "12                                                    Face Wash - Oil Control, Active   \n",
      "\n",
      "               category              brand  market_price  \n",
      "14946  Beauty & Hygiene          Nutrinorm         199.0  \n",
      "21006  Beauty & Hygiene          Nivea Men         199.0  \n",
      "9605   Beauty & Hygiene          Nivea Men         199.0  \n",
      "1240   Beauty & Hygiene       Himalaya Men         180.0  \n",
      "3125   Beauty & Hygiene           Navratna         115.0  \n",
      "5448   Beauty & Hygiene  FAIR AND HANDSOME          90.0  \n",
      "23926  Beauty & Hygiene  FAIR AND HANDSOME          90.0  \n",
      "22579  Beauty & Hygiene          Nivea Men         199.0  \n",
      "3504   Beauty & Hygiene       Himalaya Men         180.0  \n",
      "12     Beauty & Hygiene                Oxy         110.0  \n"
     ]
    }
   ],
   "source": [
    "get_similarity_fastext(user_query)"
   ]
  },
  {
   "cell_type": "code",
   "execution_count": 37,
   "id": "5ee6af95",
   "metadata": {},
   "outputs": [
    {
     "name": "stdout",
     "output_type": "stream",
     "text": [
      "                                                                              product  \\\n",
      "8634                                                        Active Gel Hand Sanitizer   \n",
      "12982                    Anti Ageing Face Wash With Hyluronic Acid & Active Vitamin C   \n",
      "7297                                                       Active Charcoal Face Scrub   \n",
      "22013                                             Bio Active Skin Lightening Face Gel   \n",
      "14943  Active Clean Body Wash With Active Charcoal - Shower Gel For Body, Face & Hair   \n",
      "8736                                       Skin Natutals - Pure Active Neem Face Wash   \n",
      "9605   Active Clean Body Wash With Active Charcoal - Shower Gel For Body, Face & Hair   \n",
      "12                                                    Face Wash - Oil Control, Active   \n",
      "1240                                                           Active Sport Face Wash   \n",
      "3504                                                           Active Sport Face Wash   \n",
      "\n",
      "               category                brand  market_price  \n",
      "8634   Beauty & Hygiene               Savlon          50.0  \n",
      "12982  Beauty & Hygiene               Globus         140.0  \n",
      "7297   Beauty & Hygiene      Natures Essence         200.0  \n",
      "22013  Beauty & Hygiene  Greenberry Organics         699.0  \n",
      "14943  Beauty & Hygiene            Nivea Men         199.0  \n",
      "8736   Beauty & Hygiene              Garnier         120.0  \n",
      "9605   Beauty & Hygiene            Nivea Men         199.0  \n",
      "12     Beauty & Hygiene                  Oxy         110.0  \n",
      "1240   Beauty & Hygiene         Himalaya Men         180.0  \n",
      "3504   Beauty & Hygiene         Himalaya Men         180.0  \n"
     ]
    }
   ],
   "source": [
    "get_similarity_word2vec(user_query)"
   ]
  },
  {
   "cell_type": "code",
   "execution_count": null,
   "id": "3a80aeef",
   "metadata": {},
   "outputs": [],
   "source": []
  }
 ],
 "metadata": {
  "kernelspec": {
   "display_name": "Python 3 (ipykernel)",
   "language": "python",
   "name": "python3"
  },
  "language_info": {
   "codemirror_mode": {
    "name": "ipython",
    "version": 3
   },
   "file_extension": ".py",
   "mimetype": "text/x-python",
   "name": "python",
   "nbconvert_exporter": "python",
   "pygments_lexer": "ipython3",
   "version": "3.11.3"
  }
 },
 "nbformat": 4,
 "nbformat_minor": 5
}
